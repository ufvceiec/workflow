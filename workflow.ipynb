{
 "cells": [
  {
   "cell_type": "markdown",
   "metadata": {},
   "source": [
    "Decide what neural model are you using depending on your data and use case. For example, classifying x-ray images corrsponds to Convolutional Neural Networks."
   ]
  },
  {
   "cell_type": "code",
   "execution_count": null,
   "metadata": {},
   "outputs": [],
   "source": []
  },
  {
   "cell_type": "markdown",
   "metadata": {},
   "source": [
    "If your target is formed by classes, decide how they are being used during training and how they are going to be shuffle. You can search for similar paper to decide how is the best way to do it. Para el bias buscaremos algún paper que nos diga con que precisión hacen los humanos la tarea que va a realizar el modelo de Deep Learning.\n",
   ]
  },
  {
   "cell_type": "code",
   "execution_count": null,
   "metadata": {},
   "outputs": [],
   "source": []
  },
  {
   "cell_type": "markdown",
   "metadata": {},
   "source": [
    "Split the data into train, validation/dev and test. Mostly validation and test should correspond to the same distribution (there are exceptions). Depending on the amount of data 80% are used for the training stage and 20% for the test stage. If there are really big amount of data (like hundreds of thousands), you can use a bigger percentage for training. Decide if data should be randomly chosen depending on its nature, for example if we are working with video similar frames could be used on training and test which could lead to a bias. Data used during training stage are also split into 80-20 which are the training set and the validation set. Use k-fold cross validation.\n",
    "Recommended link: https://youtu.be/F1ka6a13S9I"
   ]
  },
  {
   "cell_type": "code",
   "execution_count": null,
   "metadata": {},
   "outputs": [],
   "source": []
  },
  {
   "cell_type": "markdown",
   "metadata": {},
   "source": [
    "Apply preprocessing techniques like normalization or codification to feed the model."
   ]
  },
  {
   "cell_type": "code",
   "execution_count": null,
   "metadata": {},
   "outputs": [],
   "source": []
  },
  {
   "cell_type": "markdown",
   "metadata": {},
   "source": [
    "During training hyperparamenters should be tunned by using grid search techniques."
   ]
  },
  {
   "cell_type": "code",
   "execution_count": null,
   "metadata": {},
   "outputs": [],
   "source": []
  },
  {
   "cell_type": "markdown",
   "metadata": {},
   "source": [
    "Plot a line diagram to measure metrics for train, validation and test. This will tell us if there is overfitting by using the bias and the variance (activate early stopping to avoid keep on training when the model has overfitted).You can use early stopping to avoid overfitting.\n",
    "To know which is a good bias, we can search for a paper that tell us which is the accuracy in humans for the task that the Deep Learning model is performing.\n",
    "To measure the variance we have to take into account the difference between the metric at training and validation stage. It should not bet greater than 5, that is not a universal rule.\n",
    "Recommended link https://youtu.be/SjQyLhQIXSM"
   ]
  },
  {
   "cell_type": "code",
   "execution_count": null,
   "metadata": {},
   "outputs": [],
   "source": []
  },
  {
   "cell_type": "markdown",
   "metadata": {},
   "source": [
    "Use other metrics like specificity, sensitivity and precision. Also obtain their confusion matrices."
   ]
  },
  {
   "cell_type": "code",
   "execution_count": null,
   "metadata": {},
   "outputs": [],
   "source": []
  },
  {
   "cell_type": "markdown",
   "metadata": {},
   "source": [
    "Make a comparison with a baseline or set of baselines (neural or non-neural models)."
   ]
  },
  {
   "cell_type": "code",
   "execution_count": null,
   "metadata": {},
   "outputs": [],
   "source": []
  }
 ],
 "metadata": {
  "kernelspec": {
   "display_name": "Python 3",
   "language": "python",
   "name": "python3"
  },
  "language_info": {
   "codemirror_mode": {
    "name": "ipython",
    "version": 3
   },
   "file_extension": ".py",
   "mimetype": "text/x-python",
   "name": "python",
   "nbconvert_exporter": "python",
   "pygments_lexer": "ipython3",
   "version": "3.8.3"
  }
 },
 "nbformat": 4,
 "nbformat_minor": 4
}
